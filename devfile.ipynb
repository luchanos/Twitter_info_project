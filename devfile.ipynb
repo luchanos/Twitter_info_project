{
 "cells": [
  {
   "cell_type": "code",
   "execution_count": 171,
   "metadata": {},
   "outputs": [],
   "source": [
    "import json\n",
    "import sqlite3\n",
    "import re"
   ]
  },
  {
   "cell_type": "code",
   "execution_count": 165,
   "metadata": {},
   "outputs": [],
   "source": [
    "FILEPATH = 'C:/Users/User/Desktop/Python/PythonProjects/Twitter_info_project/three_minutes_tweets.json.txt'\n",
    "FILEPATH_AF = 'C:/Users/User/Desktop/Python/PythonProjects/Twitter_info_project/AFINN-111.txt'\n",
    "db = 'mts_twits.db'"
   ]
  },
  {
   "cell_type": "code",
   "execution_count": 175,
   "metadata": {},
   "outputs": [],
   "source": [
    "class Sqlite_Contextman:\n",
    "    \n",
    "    def __init__(self, dbname):\n",
    "        self.dbname = dbname\n",
    "        \n",
    "    def __enter__(self):\n",
    "        self.conn = sqlite3.connect(self.dbname)\n",
    "        return self.conn\n",
    "    \n",
    "    def __exit__(self, exc_val, exc_type, exc_tb):\n",
    "        self.conn.close()\n",
    "        if exc_val:\n",
    "            raise\n",
    "    \n",
    "    @staticmethod\n",
    "    def db_querrier(cursor, sql):\n",
    "        \"\"\"Для запуска произвольного запроса\"\"\"\n",
    "        cursor.execute(sql)\n",
    "        \n",
    "def tweets_inserter_querry_maker(cursor, line):\n",
    "    \"\"\"Функция для записи json в базу данных\"\"\"\n",
    "    country_code = None\n",
    "    if line['place'] != None:\n",
    "        country_code = line['place']['country_code']\n",
    "    cursor.execute(\"\"\"insert or ignore into mytab (id, created_at, tweet_text, name, location, country_code, lang) \n",
    "            values (?,?,?,?,?,?,?)\"\"\",[line['id'],\n",
    "                                       line['created_at'],\n",
    "                                       line['text'],\n",
    "                                       line['user']['name'],\n",
    "                                       line['user']['location'],\n",
    "                                       country_code,\n",
    "                                       line['user']['lang']])\n",
    "\n",
    "def tweets_inserter(db, FILEPATH):\n",
    "    counter = 0\n",
    "    with Sqlite_Contextman(db) as conn:\n",
    "        cursor = conn.cursor()\n",
    "        line = True\n",
    "        with open(FILEPATH) as filetoread:\n",
    "            try:\n",
    "                while line:\n",
    "                    line = json.loads(filetoread.readline())\n",
    "                    if 'delete' not in line.keys():\n",
    "                        counter += 1\n",
    "                        tweets_inserter_querry_maker(cursor, line)\n",
    "                        if counter % 1000 == 0: print(counter)\n",
    "                    \n",
    "            except Exception as err:\n",
    "                print(counter, line['text'], err)\n",
    "                temp = line\n",
    "                conn.commit()\n",
    "        conn.commit()\n",
    "\n",
    "def sentiment_inserter(db, FILEPATH):\n",
    "    line = True\n",
    "    with Sqlite_Contextman(db) as conn:\n",
    "        cursor = conn.cursor()\n",
    "        with open(FILEPATH_AF) as filetoread:\n",
    "            try:\n",
    "                while line != '':\n",
    "                    line = filetoread.readline()\n",
    "                    sentiment = re.split('\\t', line)\n",
    "                    sentiment[1] = int(sentiment[1])\n",
    "                    cursor.execute(\"\"\"insert or ignore into tweet_sentiment (word, val) values (?,?)\"\"\",(sentiment[0], sentiment[1]))\n",
    "            except Exception as err:\n",
    "                print(err, line == '')\n",
    "                conn.commit()\n",
    "        conn.commit()"
   ]
  },
  {
   "cell_type": "code",
   "execution_count": 177,
   "metadata": {},
   "outputs": [
    {
     "name": "stdout",
     "output_type": "stream",
     "text": [
      "1000\n",
      "2000\n",
      "3000\n",
      "4000\n",
      "5000\n",
      "6000\n",
      "7000\n",
      "7338 @TetoKasane11 yo igual soy un neko hermana,nya http://t.co/O323oIMbgI Expecting value: line 1 column 1 (char 0)\n",
      "list index out of range True\n"
     ]
    }
   ],
   "source": [
    "tweets_inserter(db, FILEPATH)\n",
    "sentiment_inserter(db, FILEPATH_AF)"
   ]
  },
  {
   "cell_type": "code",
   "execution_count": 155,
   "metadata": {},
   "outputs": [],
   "source": [
    "# sql = \"\"\"create table if not exists tweet_sentiment (word text not null primary key, val int)\"\"\"\n",
    "# # sql = \"\"\"drop table tweet_sentiment\"\"\"\n",
    "# # sql = \"\"\"insert or ignore into tweet_sentiment (word, val) values ()\"\"\"\n",
    "# with Sqlite_Contextman(db) as conn:\n",
    "#     cursor = conn.cursor()\n",
    "#     Sqlite_Contextman.db_querrier(cursor, sql)\n",
    "#     conn.commit()"
   ]
  },
  {
   "cell_type": "markdown",
   "metadata": {},
   "source": [
    "1. Нужно написать генератор словаря или списка для sentiment\n",
    "2. Нужно \"на лету\" обсчитывать sentiment"
   ]
  },
  {
   "cell_type": "code",
   "execution_count": null,
   "metadata": {},
   "outputs": [],
   "source": [
    "with open(FILEPATH_AF) as filetoread:\n",
    "        try:\n",
    "            while line != '':\n",
    "                line = filetoread.readline()\n",
    "                sentiment = re.split('\\t', line)\n",
    "                sentiment[1] = int(sentiment[1])\n",
    "                \n",
    "        except Exception as err:\n",
    "            print(err, line == '')"
   ]
  }
 ],
 "metadata": {
  "kernelspec": {
   "display_name": "Python 3",
   "language": "python",
   "name": "python3"
  },
  "language_info": {
   "codemirror_mode": {
    "name": "ipython",
    "version": 3
   },
   "file_extension": ".py",
   "mimetype": "text/x-python",
   "name": "python",
   "nbconvert_exporter": "python",
   "pygments_lexer": "ipython3",
   "version": "3.6.5"
  }
 },
 "nbformat": 4,
 "nbformat_minor": 2
}
