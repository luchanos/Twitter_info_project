{
 "cells": [
  {
   "cell_type": "code",
   "execution_count": 7,
   "metadata": {},
   "outputs": [],
   "source": [
    "import json\n",
    "import sqlite3\n",
    "import re\n",
    "\n",
    "# перенести в константы\n",
    "FILEPATH = 'C:/Users/User/Desktop/Python/PythonProjects/Twitter_info_project/three_minutes_tweets.json.txt'\n",
    "FILEPATH_AF = 'C:/Users/User/Desktop/Python/PythonProjects/Twitter_info_project/AFINN-111.txt'\n",
    "db = 'mts_twits.db'\n",
    "\n",
    "class Sqlite_Contextman:\n",
    "    \n",
    "    def __init__(self, dbname):\n",
    "        self.dbname = dbname\n",
    "        \n",
    "    def __enter__(self):\n",
    "        self.conn = sqlite3.connect(self.dbname)\n",
    "        return self.conn\n",
    "    \n",
    "    def __exit__(self, exc_val, exc_type, exc_tb):\n",
    "        self.conn.close()\n",
    "        if exc_val:\n",
    "            raise\n",
    "    \n",
    "    @staticmethod\n",
    "    def db_querrier(cursor, sql):\n",
    "        \"\"\"Для запуска произвольного запроса\"\"\"\n",
    "        cursor.execute(sql)"
   ]
  },
  {
   "cell_type": "code",
   "execution_count": 8,
   "metadata": {},
   "outputs": [],
   "source": [
    "# запросы на создание таблиц и индексов\n",
    "sql = (\"\"\"CREATE TABLE IF NOT EXISTS users (\n",
    "user_id int NOT NULL PRIMARY KEY, \n",
    "username text, \n",
    "url text, \n",
    "location text,\n",
    "lang text\n",
    ");\"\"\",\n",
    "       \"\"\"CREATE TABLE IF NOT EXISTS twitts (\n",
    "tweet_id int NOT NULL PRIMARY KEY, \n",
    "created_at text,\n",
    "user_id int,\n",
    "tweet_text text, \n",
    "country_code text, \n",
    "sentiment int\n",
    ");\"\"\")"
   ]
  },
  {
   "cell_type": "code",
   "execution_count": 9,
   "metadata": {},
   "outputs": [],
   "source": [
    "def sentiment_dict_maker(FILEPATH):\n",
    "    \"Возвращает словарь для эмоциональной окраски\"\n",
    "    word_dict = dict()\n",
    "    \"\"\"Читает маркеры эмоциональной окраски из файла и записывает их в БД\"\"\"\n",
    "    line = True\n",
    "    with open(FILEPATH_AF) as filetoread:\n",
    "        while line != '':\n",
    "            line = filetoread.readline()\n",
    "            if line != '':\n",
    "                sentiment = re.split('\\t', line)\n",
    "                sentiment[1] = int(sentiment[1])\n",
    "                word_dict.update({sentiment[0] : sentiment[1]})\n",
    "    return word_dict"
   ]
  },
  {
   "cell_type": "code",
   "execution_count": 10,
   "metadata": {},
   "outputs": [],
   "source": [
    "def sentiment_counter(s, word_dict):\n",
    "    \"\"\"Считает количество вхождений подстроки в словарь\"\"\"\n",
    "    res = 0\n",
    "    s = s.split()\n",
    "    for x in s:\n",
    "        if x in word_dict:\n",
    "            res += word_dict[x]\n",
    "    return(res)\n",
    "\n",
    "def tweets_inserter_sql(cursor, line_to_json, sentiment):\n",
    "    \"\"\"Функция для записи json в таблицу twitts\"\"\"\n",
    "    country_code = None\n",
    "    if line_to_json['place'] != None:\n",
    "        country_code = line_to_json['place']['country_code']\n",
    "    cursor.execute(\"\"\"insert or ignore into twitts (tweet_id, created_at, user_id, tweet_text, country_code, sentiment) \n",
    "            values (?,?,?,?,?,?)\"\"\",[line_to_json['id'],\n",
    "                                   line_to_json['created_at'],\n",
    "                                   line_to_json['user']['id'],\n",
    "                                   line_to_json['text'],\n",
    "                                   country_code,\n",
    "                                   sentiment])\n",
    "    \n",
    "def users_inserter_sql(cursor, line_to_json):\n",
    "    \"\"\"Функция для записи json в таблицу twitts\"\"\"\n",
    "    cursor.execute(\"\"\"insert or ignore into users (user_id, url, username, lang, location) \n",
    "            values (?,?,?,?,?)\"\"\",[line_to_json['user']['id'],\n",
    "                                    line_to_json['user']['url'],\n",
    "                                    line_to_json['user']['name'],\n",
    "                                    line_to_json['user']['lang'],\n",
    "                                    line_to_json['user']['location']])\n",
    "\n",
    "def tweets_inserter(db, FILEPATH, cursor):\n",
    "    \"\"\"Читает строки из файла с твитами и вызывает метод записи в БД\"\"\"\n",
    "    line = True\n",
    "    with open(FILEPATH) as filetoread:\n",
    "        while line != '':\n",
    "            line = filetoread.readline()\n",
    "            if line != '': \n",
    "                line_to_json = json.loads(line)\n",
    "            if 'delete' not in line_to_json.keys():\n",
    "                sentiment = sentiment_counter(line_to_json['text'], word_dict)\n",
    "                tweets_inserter_sql(cursor, line_to_json, sentiment)\n",
    "                users_inserter_sql(cursor, line_to_json)"
   ]
  },
  {
   "cell_type": "code",
   "execution_count": 11,
   "metadata": {},
   "outputs": [],
   "source": [
    "# получаем словарь с эмоциональной окраской\n",
    "word_dict = sentiment_dict_maker(FILEPATH_AF)  "
   ]
  },
  {
   "cell_type": "code",
   "execution_count": 13,
   "metadata": {},
   "outputs": [],
   "source": [
    "with Sqlite_Contextman(db) as conn:\n",
    "        cursor = conn.cursor()\n",
    "        tweets_inserter(db, FILEPATH, cursor)\n",
    "        conn.commit()"
   ]
  }
 ],
 "metadata": {
  "kernelspec": {
   "display_name": "Python 3",
   "language": "python",
   "name": "python3"
  },
  "language_info": {
   "codemirror_mode": {
    "name": "ipython",
    "version": 3
   },
   "file_extension": ".py",
   "mimetype": "text/x-python",
   "name": "python",
   "nbconvert_exporter": "python",
   "pygments_lexer": "ipython3",
   "version": "3.6.5"
  }
 },
 "nbformat": 4,
 "nbformat_minor": 2
}
